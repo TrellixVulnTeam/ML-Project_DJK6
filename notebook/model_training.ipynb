{
 "cells": [
  {
   "cell_type": "code",
   "execution_count": 28,
   "metadata": {},
   "outputs": [],
   "source": [
    "\n",
    "from housing.entity.model_factory import ModelFactory,get_sample_model_config_yaml_file"
   ]
  },
  {
   "cell_type": "code",
   "execution_count": 29,
   "metadata": {},
   "outputs": [
    {
     "data": {
      "text/plain": [
       "'c:\\\\Users\\\\shrav\\\\Documents\\\\iNuron\\\\Machine Learning\\\\Project\\\\ML-Project\\\\notebook'"
      ]
     },
     "execution_count": 29,
     "metadata": {},
     "output_type": "execute_result"
    }
   ],
   "source": [
    "os.getcwd()"
   ]
  },
  {
   "cell_type": "code",
   "execution_count": 3,
   "metadata": {},
   "outputs": [
    {
     "data": {
      "text/plain": [
       "'config\\\\model.yaml'"
      ]
     },
     "execution_count": 3,
     "metadata": {},
     "output_type": "execute_result"
    }
   ],
   "source": [
    "get_sample_model_config_yaml_file(export_dir=\"config\")"
   ]
  },
  {
   "cell_type": "code",
   "execution_count": 4,
   "metadata": {},
   "outputs": [],
   "source": [
    "from sklearn.linear_model import LinearRegression"
   ]
  },
  {
   "cell_type": "code",
   "execution_count": 30,
   "metadata": {},
   "outputs": [
    {
     "data": {
      "text/plain": [
       "LinearRegression()"
      ]
     },
     "execution_count": 30,
     "metadata": {},
     "output_type": "execute_result"
    }
   ],
   "source": [
    "LinearRegression()"
   ]
  },
  {
   "cell_type": "code",
   "execution_count": 5,
   "metadata": {},
   "outputs": [],
   "source": [
    "model_config_file = r\"C:\\Users\\shrav\\Documents\\iNuron\\Machine Learning\\Project\\ML-Project\\notebook\\config\\model.yaml\""
   ]
  },
  {
   "cell_type": "markdown",
   "metadata": {},
   "source": [
    "from neuro_mf import ModelFactory"
   ]
  },
  {
   "cell_type": "code",
   "execution_count": 32,
   "metadata": {},
   "outputs": [],
   "source": [
    "model_factory = ModelFactory(model_config_path=model_config_file)"
   ]
  },
  {
   "cell_type": "markdown",
   "metadata": {},
   "source": []
  },
  {
   "cell_type": "code",
   "execution_count": 7,
   "metadata": {},
   "outputs": [],
   "source": [
    "model_factory = ModelFactory(model_config_path=model_config_file)"
   ]
  },
  {
   "cell_type": "code",
   "execution_count": 8,
   "metadata": {},
   "outputs": [
    {
     "name": "stdout",
     "output_type": "stream",
     "text": [
      "{'fit_intercept': True}\n",
      "{'n_estimators': 40, 'min_samples_leaf': 2}\n"
     ]
    }
   ],
   "source": [
    "model_list = model_factory.get_initialized_model_list()"
   ]
  },
  {
   "cell_type": "code",
   "execution_count": 9,
   "metadata": {},
   "outputs": [
    {
     "data": {
      "text/plain": [
       "2"
      ]
     },
     "execution_count": 9,
     "metadata": {},
     "output_type": "execute_result"
    }
   ],
   "source": [
    "len(model_list)"
   ]
  },
  {
   "cell_type": "code",
   "execution_count": 10,
   "metadata": {},
   "outputs": [
    {
     "data": {
      "text/plain": [
       "InitializedModelDetail(model_serial_number='module_0', model=LinearRegression(), param_grid_search={'fit_intercept': [True, False]}, model_name='sklearn.linear_model.LinearRegression')"
      ]
     },
     "execution_count": 10,
     "metadata": {},
     "output_type": "execute_result"
    }
   ],
   "source": [
    "model_list[0]"
   ]
  },
  {
   "cell_type": "code",
   "execution_count": 11,
   "metadata": {},
   "outputs": [
    {
     "data": {
      "text/plain": [
       "InitializedModelDetail(model_serial_number='module_1', model=RandomForestRegressor(min_samples_leaf=2, n_estimators=40), param_grid_search={'min_samples_leaf': [2, 4, 6], 'n_estimators': [50, 100, 80]}, model_name='sklearn.ensemble.RandomForestRegressor')"
      ]
     },
     "execution_count": 11,
     "metadata": {},
     "output_type": "execute_result"
    }
   ],
   "source": [
    "model_list[1]"
   ]
  },
  {
   "cell_type": "code",
   "execution_count": 12,
   "metadata": {},
   "outputs": [],
   "source": [
    "from housing.util.util import load_numpy_array_data"
   ]
  },
  {
   "cell_type": "code",
   "execution_count": 24,
   "metadata": {},
   "outputs": [],
   "source": [
    "data_file_path = r\"C:\\Users\\shrav\\Documents\\iNuron\\Machine Learning\\Project\\ML-Project\\housing\\artifact\\data_transformation\\2022-07-07-21-41-38\\transformed_data\\train\\housing.npz\""
   ]
  },
  {
   "cell_type": "code",
   "execution_count": 25,
   "metadata": {},
   "outputs": [],
   "source": [
    "data = load_numpy_array_data(data_file_path)"
   ]
  },
  {
   "cell_type": "code",
   "execution_count": 26,
   "metadata": {},
   "outputs": [],
   "source": [
    "x,y = data[:,:-1],data[:,-1]"
   ]
  },
  {
   "cell_type": "code",
   "execution_count": 33,
   "metadata": {},
   "outputs": [],
   "source": [
    "model_factory.grid_searched_best_model_list"
   ]
  },
  {
   "cell_type": "code",
   "execution_count": 35,
   "metadata": {},
   "outputs": [
    {
     "name": "stdout",
     "output_type": "stream",
     "text": [
      "{'fit_intercept': True}\n",
      "{'n_estimators': 40, 'min_samples_leaf': 2}\n",
      "{'cv': 4, 'verbose': 2}\n",
      "Fitting 4 folds for each of 2 candidates, totalling 8 fits\n",
      "[CV] END .................................fit_intercept=True; total time=   0.0s\n",
      "[CV] END .................................fit_intercept=True; total time=   0.0s\n",
      "[CV] END .................................fit_intercept=True; total time=   0.0s\n",
      "[CV] END .................................fit_intercept=True; total time=   0.0s\n",
      "[CV] END ................................fit_intercept=False; total time=   0.0s\n",
      "[CV] END ................................fit_intercept=False; total time=   0.0s\n",
      "[CV] END ................................fit_intercept=False; total time=   0.0s\n",
      "[CV] END ................................fit_intercept=False; total time=   0.0s\n",
      "{'cv': 4, 'verbose': 2}\n",
      "Fitting 4 folds for each of 9 candidates, totalling 36 fits\n",
      "[CV] END ................min_samples_leaf=2, n_estimators=50; total time=   4.8s\n",
      "[CV] END ................min_samples_leaf=2, n_estimators=50; total time=   4.4s\n",
      "[CV] END ................min_samples_leaf=2, n_estimators=50; total time=   4.1s\n",
      "[CV] END ................min_samples_leaf=2, n_estimators=50; total time=   4.8s\n",
      "[CV] END ...............min_samples_leaf=2, n_estimators=100; total time=   9.7s\n",
      "[CV] END ...............min_samples_leaf=2, n_estimators=100; total time=  10.4s\n",
      "[CV] END ...............min_samples_leaf=2, n_estimators=100; total time=  11.2s\n",
      "[CV] END ...............min_samples_leaf=2, n_estimators=100; total time=  13.9s\n",
      "[CV] END ................min_samples_leaf=2, n_estimators=80; total time=   8.6s\n",
      "[CV] END ................min_samples_leaf=2, n_estimators=80; total time=   8.1s\n",
      "[CV] END ................min_samples_leaf=2, n_estimators=80; total time=   7.6s\n",
      "[CV] END ................min_samples_leaf=2, n_estimators=80; total time=   7.0s\n",
      "[CV] END ................min_samples_leaf=4, n_estimators=50; total time=   4.0s\n",
      "[CV] END ................min_samples_leaf=4, n_estimators=50; total time=   4.5s\n",
      "[CV] END ................min_samples_leaf=4, n_estimators=50; total time=   4.5s\n",
      "[CV] END ................min_samples_leaf=4, n_estimators=50; total time=   5.0s\n",
      "[CV] END ...............min_samples_leaf=4, n_estimators=100; total time=   8.9s\n",
      "[CV] END ...............min_samples_leaf=4, n_estimators=100; total time=   9.2s\n",
      "[CV] END ...............min_samples_leaf=4, n_estimators=100; total time=   9.8s\n",
      "[CV] END ...............min_samples_leaf=4, n_estimators=100; total time=   8.4s\n",
      "[CV] END ................min_samples_leaf=4, n_estimators=80; total time=   7.1s\n",
      "[CV] END ................min_samples_leaf=4, n_estimators=80; total time=   7.9s\n",
      "[CV] END ................min_samples_leaf=4, n_estimators=80; total time=   6.3s\n",
      "[CV] END ................min_samples_leaf=4, n_estimators=80; total time=   7.7s\n",
      "[CV] END ................min_samples_leaf=6, n_estimators=50; total time=   6.9s\n",
      "[CV] END ................min_samples_leaf=6, n_estimators=50; total time=   5.0s\n",
      "[CV] END ................min_samples_leaf=6, n_estimators=50; total time=   4.4s\n",
      "[CV] END ................min_samples_leaf=6, n_estimators=50; total time=   3.9s\n",
      "[CV] END ...............min_samples_leaf=6, n_estimators=100; total time=   7.3s\n",
      "[CV] END ...............min_samples_leaf=6, n_estimators=100; total time=   7.7s\n",
      "[CV] END ...............min_samples_leaf=6, n_estimators=100; total time=   7.4s\n",
      "[CV] END ...............min_samples_leaf=6, n_estimators=100; total time=   7.4s\n",
      "[CV] END ................min_samples_leaf=6, n_estimators=80; total time=   5.9s\n",
      "[CV] END ................min_samples_leaf=6, n_estimators=80; total time=   5.9s\n",
      "[CV] END ................min_samples_leaf=6, n_estimators=80; total time=   5.8s\n",
      "[CV] END ................min_samples_leaf=6, n_estimators=80; total time=   6.0s\n"
     ]
    }
   ],
   "source": [
    "best_model = model_factory.get_best_model(x,y)"
   ]
  },
  {
   "cell_type": "code",
   "execution_count": 36,
   "metadata": {},
   "outputs": [
    {
     "data": {
      "text/plain": [
       "RandomForestRegressor(min_samples_leaf=2, n_estimators=80)"
      ]
     },
     "execution_count": 36,
     "metadata": {},
     "output_type": "execute_result"
    }
   ],
   "source": [
    "best_model.best_model"
   ]
  },
  {
   "cell_type": "code",
   "execution_count": 39,
   "metadata": {},
   "outputs": [
    {
     "data": {
      "text/plain": [
       "GridSearchedBestModel(model_serial_number='module_1', model=RandomForestRegressor(min_samples_leaf=2, n_estimators=40), best_model=RandomForestRegressor(min_samples_leaf=2, n_estimators=80), best_parameters={'min_samples_leaf': 2, 'n_estimators': 80}, best_score=0.8058040798051092)"
      ]
     },
     "execution_count": 39,
     "metadata": {},
     "output_type": "execute_result"
    }
   ],
   "source": [
    "best_model"
   ]
  },
  {
   "cell_type": "code",
   "execution_count": 37,
   "metadata": {},
   "outputs": [
    {
     "data": {
      "text/plain": [
       "GridSearchedBestModel(model_serial_number='module_0', model=LinearRegression(), best_model=LinearRegression(fit_intercept=False), best_parameters={'fit_intercept': False}, best_score=0.6393153733826)"
      ]
     },
     "execution_count": 37,
     "metadata": {},
     "output_type": "execute_result"
    }
   ],
   "source": [
    "model_factory.grid_searched_best_model_list[0]"
   ]
  },
  {
   "cell_type": "code",
   "execution_count": 38,
   "metadata": {},
   "outputs": [
    {
     "data": {
      "text/plain": [
       "[InitializedModelDetail(model_serial_number='module_0', model=LinearRegression(), param_grid_search={'fit_intercept': [True, False]}, model_name='sklearn.linear_model.LinearRegression'),\n",
       " InitializedModelDetail(model_serial_number='module_1', model=RandomForestRegressor(min_samples_leaf=2, n_estimators=40), param_grid_search={'min_samples_leaf': [2, 4, 6], 'n_estimators': [50, 100, 80]}, model_name='sklearn.ensemble.RandomForestRegressor')]"
      ]
     },
     "execution_count": 38,
     "metadata": {},
     "output_type": "execute_result"
    }
   ],
   "source": [
    "model_factory.initialized_model_list"
   ]
  },
  {
   "cell_type": "code",
   "execution_count": null,
   "metadata": {},
   "outputs": [],
   "source": []
  }
 ],
 "metadata": {
  "kernelspec": {
   "display_name": "Python 3.7.0 (conda)",
   "language": "python",
   "name": "python3"
  },
  "language_info": {
   "codemirror_mode": {
    "name": "ipython",
    "version": 3
   },
   "file_extension": ".py",
   "mimetype": "text/x-python",
   "name": "python",
   "nbconvert_exporter": "python",
   "pygments_lexer": "ipython3",
   "version": "3.7.0"
  },
  "orig_nbformat": 4,
  "vscode": {
   "interpreter": {
    "hash": "b0761b71d8b3e61aa7286aa66d4009d3dfa9a7c4e26556ec7a650acaac667551"
   }
  }
 },
 "nbformat": 4,
 "nbformat_minor": 2
}
